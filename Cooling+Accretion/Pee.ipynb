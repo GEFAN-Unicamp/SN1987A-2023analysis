{
 "cells": [
  {
   "cell_type": "code",
   "execution_count": 1,
   "metadata": {},
   "outputs": [],
   "source": [
    "from likelihood import *\n",
    "from detection import *\n",
    "from Profile_and_Contours import *\n",
    "import matplotlib.pyplot as plt\n",
    "import numpy as np\n",
    "import time\n",
    "from iminuit import Minuit\n",
    "from scipy.stats import chi2   \n",
    "import os.path\n",
    "import pandas as pd \n",
    "import itertools\n",
    "plt.style.use('style.mplstyle')"
   ]
  },
  {
   "cell_type": "code",
   "execution_count": 2,
   "metadata": {},
   "outputs": [],
   "source": [
    "#Parameters allowed space\n",
    "#Cooling\n",
    "Tci, Tcf = 1, 10\n",
    "tau_ci, tau_cf = 1, 40\n",
    "Rci, Rcf = 1, 100\n",
    "tau_i, tau_f = 1, 1.4\n",
    "\n",
    "#Off-set times\n",
    "toff_K_i,toff_K_f =0,6\n",
    "toff_I_i,toff_I_f =0,6\n",
    "toff_B_i,toff_B_f =0,6\n",
    "\n",
    "#Accretion\n",
    "Tai, Taf = 0.1, 7\n",
    "tau_ai, tau_af = 0.3, 3.5\n",
    "Mai, Maf = 0, 0.6\n",
    "\n",
    "#nubar_e survival probability \n",
    "Pee_i,Pee_f=0,1"
   ]
  },
  {
   "cell_type": "code",
   "execution_count": 3,
   "metadata": {},
   "outputs": [],
   "source": [
    "#Pee\n",
    "Likelihood_c_a_Pee.errordef = Minuit.LEAST_SQUARES\n",
    "x0_c_a_Pee=np.array([5.37 ,4.13,11.3,1.2,1.91,0.58,0.6,0.0,0.47,0.0,1])\n",
    "m_c_a_Pee = Minuit(Likelihood_c_a_Pee, x0_c_a_Pee)\n",
    "m_c_a_Pee.limits = [(Tci, Tcf), (tau_ci, tau_cf), (Rci, Rcf),(tau_i, tau_f), (Tai, Taf), (tau_ai, tau_af), (Mai, Maf),(toff_K_i,toff_K_f),(toff_I_i,toff_I_f),(toff_B_i,toff_B_f),(Pee_i, Pee_f)]\n",
    "m_c_a_Pee.fixed[\"x3\"] = True\n",
    "\n",
    "Likelihood_c_a_Pee_cont.errordef = Minuit.LEAST_SQUARES\n",
    "x0_c_a_Pee_cont=np.array([5.37 ,4.13,11.3,1.2,1.91,0.58,0.6,0.0,0.47,0.0,1])\n",
    "m_c_a_Pee_cont = Minuit(Likelihood_c_a_Pee_cont, x0_c_a_Pee_cont)\n",
    "m_c_a_Pee_cont.limits = [(Tci, Tcf), (tau_ci, tau_cf), (Rci, Rcf),(tau_i, tau_f), (Tai, Taf), (tau_ai, tau_af), (Mai, Maf),(toff_K_i,toff_K_f),(toff_I_i,toff_I_f),(toff_B_i,toff_B_f),(Pee_i, Pee_f)]\n",
    "m_c_a_Pee_cont.fixed[\"x3\"] = True"
   ]
  },
  {
   "cell_type": "code",
   "execution_count": 4,
   "metadata": {},
   "outputs": [
    {
     "name": "stdout",
     "output_type": "stream",
     "text": [
      "Minuit Pee= 0.30296483834584553 minutes\n",
      "232.8464813707253\n",
      "┌───┬──────┬───────────┬───────────┬────────────┬────────────┬─────────┬─────────┬───────┐\n",
      "│   │ Name │   Value   │ Hesse Err │ Minos Err- │ Minos Err+ │ Limit-  │ Limit+  │ Fixed │\n",
      "├───┼──────┼───────────┼───────────┼────────────┼────────────┼─────────┼─────────┼───────┤\n",
      "│ 0 │ x0   │    5.2    │    0.8    │            │            │    1    │   10    │       │\n",
      "│ 1 │ x1   │    4.5    │    1.2    │            │            │    1    │   40    │       │\n",
      "│ 2 │ x2   │    13     │     6     │            │            │    1    │   100   │       │\n",
      "│ 3 │ x3   │   1.200   │   0.012   │            │            │    1    │   1.4   │  yes  │\n",
      "│ 4 │ x4   │   1.86    │   0.12    │            │            │   0.1   │    7    │       │\n",
      "│ 5 │ x5   │   0.60    │   0.26    │            │            │   0.3   │   3.5   │       │\n",
      "│ 6 │ x6   │    0.6    │    0.5    │            │            │    0    │   0.6   │       │\n",
      "│ 7 │ x7   │   0.000   │   0.031   │            │            │    0    │    6    │  yes  │\n",
      "│ 8 │ x8   │   0.50    │   0.35    │            │            │    0    │    6    │  yes  │\n",
      "│ 9 │ x9   │    0.0    │    0.1    │            │            │    0    │    6    │  yes  │\n",
      "│ 10│ x10  │   1.00    │   0.21    │            │            │    0    │    1    │       │\n",
      "└───┴──────┴───────────┴───────────┴────────────┴────────────┴─────────┴─────────┴───────┘\n"
     ]
    }
   ],
   "source": [
    "\n",
    "# Cooling + Accreation Contemporaneous\n",
    "start_time = time.time()\n",
    "m_c_a_Pee.migrad()\n",
    "m_c_a_Pee_BF=np.array(m_c_a_Pee.values)\n",
    "m_c_a_Pee_BF_like=np.array(m_c_a_Pee.fval)\n",
    "np.save(\"Output/BF_Pee_TD_coo_acc.npy\", np.array(m_c_a_Pee_BF,dtype=object))\n",
    "np.save(\"Output/BF_like_Pee_TD_coo_acc.npy\", np.array(m_c_a_Pee_BF_like,dtype=object))\n",
    "# m_c_a_Pee.minos()\n",
    "print(\"Minuit Pee= %s minutes\" % ((time.time() - start_time)/60))\n",
    "# m_c_a_Pee.fixed[\"x6\"] = True  #M_a\n",
    "m_c_a_Pee.fixed[\"x7\"] = True  #toff_K\n",
    "m_c_a_Pee.fixed[\"x8\"] = True  #toff_I\n",
    "m_c_a_Pee.fixed[\"x9\"] = True  #toff_B\n",
    "print(m_c_a_Pee.fval)\n",
    "print(m_c_a_Pee.params)"
   ]
  },
  {
   "cell_type": "code",
   "execution_count": 5,
   "metadata": {},
   "outputs": [
    {
     "name": "stdout",
     "output_type": "stream",
     "text": [
      "Minuit Pee= 0.39192748864491783 minutes\n",
      "231.49975390518705\n",
      "┌───┬──────┬───────────┬───────────┬────────────┬────────────┬─────────┬─────────┬───────┐\n",
      "│   │ Name │   Value   │ Hesse Err │ Minos Err- │ Minos Err+ │ Limit-  │ Limit+  │ Fixed │\n",
      "├───┼──────┼───────────┼───────────┼────────────┼────────────┼─────────┼─────────┼───────┤\n",
      "│ 0 │ x0   │    5.1    │    0.8    │            │            │    1    │   10    │       │\n",
      "│ 1 │ x1   │    4.7    │    1.2    │            │            │    1    │   40    │       │\n",
      "│ 2 │ x2   │    13     │     6     │            │            │    1    │   100   │       │\n",
      "│ 3 │ x3   │   1.200   │   0.012   │            │            │    1    │   1.4   │  yes  │\n",
      "│ 4 │ x4   │   1.85    │   0.13    │            │            │   0.1   │    7    │       │\n",
      "│ 5 │ x5   │   0.59    │   0.25    │            │            │   0.3   │   3.5   │       │\n",
      "│ 6 │ x6   │    0.6    │    0.5    │            │            │    0    │   0.6   │       │\n",
      "│ 7 │ x7   │   0.000   │   0.032   │            │            │    0    │    6    │  yes  │\n",
      "│ 8 │ x8   │   0.00    │   0.14    │            │            │    0    │    6    │  yes  │\n",
      "│ 9 │ x9   │    0.0    │    0.1    │            │            │    0    │    6    │  yes  │\n",
      "│ 10│ x10  │   1.00    │   0.21    │            │            │    0    │    1    │       │\n",
      "└───┴──────┴───────────┴───────────┴────────────┴────────────┴─────────┴─────────┴───────┘\n"
     ]
    }
   ],
   "source": [
    "#Pee\n",
    "start_time = time.time()\n",
    "m_c_a_Pee_cont.migrad()\n",
    "m_c_a_Pee_cont_BF=np.array(m_c_a_Pee_cont.values)\n",
    "np.save(\"Output/BF_Pee_TD_coo_acc_cont.npy\", np.array(m_c_a_Pee_cont_BF,dtype=object))\n",
    "#m_c_a_Pee_cont.minos()\n",
    "print(\"Minuit Pee= %s minutes\" % ((time.time() - start_time)/60))\n",
    "#print(m_c_a_Pee_cont.params)\n",
    "m_c_a_Pee_cont.fixed[\"x7\"] = True  #toff_K\n",
    "m_c_a_Pee_cont.fixed[\"x8\"] = True  #toff_I\n",
    "m_c_a_Pee_cont.fixed[\"x9\"] = True  #toff_B\n",
    "print(m_c_a_Pee_cont.fval)\n",
    "print(m_c_a_Pee_cont.params)"
   ]
  },
  {
   "cell_type": "code",
   "execution_count": 6,
   "metadata": {},
   "outputs": [
    {
     "name": "stdout",
     "output_type": "stream",
     "text": [
      "Faield to converge in  x10  =  0.0\n",
      "Faield to converge in  x10  =  0.0\n",
      "Faield to converge in  x10  =  0.0\n"
     ]
    },
    {
     "name": "stderr",
     "output_type": "stream",
     "text": [
      "/home/holanda/Dropbox/pesquisa/github_programas/SN1987A-data-analysis-pub/SN1987A-2023analysis-vfinal/Cooling+Accretion/fluxes.py:99: RuntimeWarning: overflow encountered in exp\n",
      "  ge = Epos_vec(Enu)**2/(1 + np.exp(Epos_vec(Enu)/Ta0))\n"
     ]
    },
    {
     "name": "stdout",
     "output_type": "stream",
     "text": [
      "Faield to converge in  x10  =  0.0\n",
      "Faield to converge in  x10  =  0.0\n",
      "Faield to converge in  x10  =  0.0\n",
      "Faield to converge in  x10  =  0.0\n"
     ]
    }
   ],
   "source": [
    "tau_vec=[1,1.1,1.2,1.3,1.4,1.5]\n",
    "n_iterate=20\n",
    "n_points=40\n",
    "\n",
    "for tau in tau_vec:\n",
    "    start_time = time.time()\n",
    "    \n",
    "    #Cooling+Accretion\n",
    "    m_c_a_Pee.values=m_c_a_Pee_BF\n",
    "    m_c_a_Pee.values[\"x3\"]=tau\n",
    "    x_Pee, L_Pee,axu= param_profile_v3(m_c_a_Pee,\"x10\",0,1,size=n_points,iterate=n_iterate,subtract_min=False)\n",
    "\n",
    "    #Saving Arrays\n",
    "    file_name=\"Output/Pee_c_a_tau_\"+str(tau)+\".npy\"\n",
    "    np.save(file_name, x_Pee)\n",
    "    file_name=\"Output/Like_Pee_c_a_tau_\"+str(tau)+\".npy\"\n",
    "    np.save(file_name, L_Pee)\n",
    "    \n",
    "    #Cooling+Accretion Conteporaneous\n",
    "    m_c_a_Pee_cont.values=m_c_a_Pee_cont_BF\n",
    "    m_c_a_Pee_cont.values[\"x3\"]=tau\n",
    "    x_Pee, L_Pee,axu= param_profile(m_c_a_Pee_cont,\"x10\",0,1,size=n_points,iterate=n_iterate,subtract_min=False)\n",
    "    #Saving Arrays\n",
    "    file_name=\"Output/Pee_c_a_cont_tau_\"+str(tau)+\".npy\"\n",
    "    np.save(file_name, x_Pee)\n",
    "    file_name=\"Output/Like_Pee_c_a_cont_tau_\"+str(tau)+\".npy\"\n",
    "    np.save(file_name, L_Pee)"
   ]
  },
  {
   "cell_type": "code",
   "execution_count": 7,
   "metadata": {},
   "outputs": [
    {
     "name": "stdout",
     "output_type": "stream",
     "text": [
      "Minuit Pee= 1.7589775482813517 minutes\n",
      "Minuit Pee= 4.27698765595754 minutes\n"
     ]
    }
   ],
   "source": [
    "toff_I_vec=[0.5,0]\n",
    "tau_vec=[1.2]\n",
    "m_c_a_Pee_BF_toff_I=[]\n",
    "x_c_a_Pee_prof,params_c_a_Pee_prof,L_c_a_Pee_prof=[],[],[]\n",
    "n_iterate=30\n",
    "n_points=40\n",
    "L_min=10**6\n",
    "m_c_a_Pee.fixed[\"x8\"] = True\n",
    "for tau in tau_vec:\n",
    "    x_aux, L_aux, params_aux=[],[],[]\n",
    "    for toff_I in toff_I_vec:\n",
    "        start_time = time.time()\n",
    "        m_c_a_Pee.values[\"x3\"] = tau\n",
    "        m_c_a_Pee.values[\"x8\"] = toff_I\n",
    "        m_c_a_Pee.migrad()\n",
    "        x, L, params = param_profile(m_c_a_Pee,\"x10\",0,1,size=n_points,iterate=n_iterate,subtract_min=False)\n",
    "        x_aux.append(x)\n",
    "        L_aux.append(L)\n",
    "        params_aux.append(params)\n",
    "        if min(L)<L_min: L_min=min(L)\n",
    "        print(\"Minuit Pee= %s minutes\" % ((time.time() - start_time)/60))\n",
    "\n",
    "    x_c_a_Pee_prof.append(x_aux)\n",
    "    L_c_a_Pee_prof.append(L_aux)\n",
    "    params_c_a_Pee_prof.append(params_aux)\n",
    "m_c_a_Pee.fixed[\"x8\"] = False"
   ]
  }
 ],
 "metadata": {
  "kernelspec": {
   "display_name": "Python 3",
   "language": "python",
   "name": "python3"
  },
  "language_info": {
   "codemirror_mode": {
    "name": "ipython",
    "version": 3
   },
   "file_extension": ".py",
   "mimetype": "text/x-python",
   "name": "python",
   "nbconvert_exporter": "python",
   "pygments_lexer": "ipython3",
   "version": "3.8.10"
  },
  "orig_nbformat": 4,
  "vscode": {
   "interpreter": {
    "hash": "916dbcbb3f70747c44a77c7bcd40155683ae19c65e1c03b4aa3499c5328201f1"
   }
  }
 },
 "nbformat": 4,
 "nbformat_minor": 2
}
