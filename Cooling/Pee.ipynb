{
 "cells": [
  {
   "cell_type": "code",
   "execution_count": 2,
   "metadata": {},
   "outputs": [],
   "source": [
    "from likelihood import *\n",
    "from detection import *\n",
    "from Profile_and_Contours import *\n",
    "import matplotlib.pyplot as plt\n",
    "import numpy as np\n",
    "import time\n",
    "from iminuit import Minuit\n",
    "from scipy.stats import chi2   \n",
    "import os.path\n",
    "import pandas as pd \n",
    "import itertools\n",
    "from flavor_conversion import *\n",
    "plt.style.use('style.mplstyle')"
   ]
  },
  {
   "cell_type": "code",
   "execution_count": 5,
   "metadata": {},
   "outputs": [],
   "source": [
    "#Parameters allowed space\n",
    "#Cooling\n",
    "Tci, Tcf = 1, 10\n",
    "tau_ci, tau_cf = 1, 40\n",
    "Rci, Rcf = 1, 100\n",
    "tau_i, tau_f = 1, 1.4\n",
    "\n",
    "#Off-set times\n",
    "toff_K_i,toff_K_f =0,6\n",
    "toff_I_i,toff_I_f =0,6\n",
    "toff_B_i,toff_B_f =0,6\n",
    "\n",
    "#nubar_e survival probability \n",
    "Pee_i,Pee_f=0,1"
   ]
  },
  {
   "cell_type": "code",
   "execution_count": 6,
   "metadata": {},
   "outputs": [],
   "source": [
    "#Pee\n",
    "Likelihood_c_Pee.errordef = Minuit.LEAST_SQUARES\n",
    "x0_c_Pee=[3.6,40,31,1.2,0,0,0,0.5]\n",
    "m_c_Pee = Minuit(Likelihood_c_Pee, x0_c_Pee)\n",
    "m_c_Pee.limits = [(Tci, Tcf), (tau_ci, tau_cf), (Rci, Rcf),(tau_i, tau_f),(toff_K_i,toff_K_f),(toff_I_i,toff_I_f),(toff_B_i,toff_B_f),(Pee_i, Pee_f)]\n",
    "m_c_Pee.fixed[\"x3\"] = True"
   ]
  },
  {
   "cell_type": "code",
   "execution_count": 8,
   "metadata": {},
   "outputs": [
    {
     "name": "stdout",
     "output_type": "stream",
     "text": [
      "Minuit Pee= 0.09938782850901286 minutes\n",
      "┌─────────────────────────────────────────────────────────────────────────┐\n",
      "│                                Migrad                                   │\n",
      "├──────────────────────────────────┬──────────────────────────────────────┤\n",
      "│ FCN = 244.4                      │              Nfcn = 314              │\n",
      "│ EDM = 2.01e-05 (Goal: 0.0002)    │            time = 6.0 sec            │\n",
      "├──────────────────────────────────┼──────────────────────────────────────┤\n",
      "│          Valid Minimum           │       SOME Parameters at limit       │\n",
      "├──────────────────────────────────┼──────────────────────────────────────┤\n",
      "│ Below EDM threshold (goal x 10)  │           Below call limit           │\n",
      "├───────────────┬──────────────────┼───────────┬─────────────┬────────────┤\n",
      "│  Covariance   │     Hesse ok     │ Accurate  │  Pos. def.  │ Not forced │\n",
      "└───────────────┴──────────────────┴───────────┴─────────────┴────────────┘\n",
      "┌───┬──────┬───────────┬───────────┬────────────┬────────────┬─────────┬─────────┬───────┐\n",
      "│   │ Name │   Value   │ Hesse Err │ Minos Err- │ Minos Err+ │ Limit-  │ Limit+  │ Fixed │\n",
      "├───┼──────┼───────────┼───────────┼────────────┼────────────┼─────────┼─────────┼───────┤\n",
      "│ 0 │ x0   │    3.7    │    1.8    │            │            │    1    │   10    │       │\n",
      "│ 1 │ x1   │    4.2    │    0.9    │            │            │    1    │   40    │       │\n",
      "│ 2 │ x2   │    30     │    11     │            │            │    1    │   100   │       │\n",
      "│ 3 │ x3   │   1.200   │   0.012   │            │            │    1    │   1.4   │  yes  │\n",
      "│ 4 │ x4   │   0.00    │   0.17    │            │            │    0    │    6    │  yes  │\n",
      "│ 5 │ x5   │   0.00    │   0.13    │            │            │    0    │    6    │  yes  │\n",
      "│ 6 │ x6   │    0.0    │    0.4    │            │            │    0    │    6    │  yes  │\n",
      "│ 7 │ x7   │    0.5    │    0.5    │            │            │    0    │    1    │       │\n",
      "└───┴──────┴───────────┴───────────┴────────────┴────────────┴─────────┴─────────┴───────┘\n",
      "┌────┬─────────────────────────────────────────────────────────────────────────────────┐\n",
      "│    │        x0        x1        x2        x3        x4        x5        x6        x7 │\n",
      "├────┼─────────────────────────────────────────────────────────────────────────────────┤\n",
      "│ x0 │      3.65    -0.435      2.43         0   9.7e-08 -8.05e-08     9e-10      5.71 │\n",
      "│ x1 │    -0.435     0.834   -0.0796         0 -2.31e-07 -1.66e-07 -7.57e-09    -0.498 │\n",
      "│ x2 │      2.43   -0.0796       124         0  1.41e-06  4.94e-07  5.09e-08        11 │\n",
      "│ x3 │         0         0         0         0         0         0         0         0 │\n",
      "│ x4 │   9.7e-08 -2.31e-07  1.41e-06         0  2.77e-07  5.44e-14  2.69e-15  1.87e-07 │\n",
      "│ x5 │ -8.05e-08 -1.66e-07  4.94e-07         0  5.44e-14  2.13e-07  1.89e-15 -1.29e-07 │\n",
      "│ x6 │     9e-10 -7.57e-09  5.09e-08         0  2.69e-15  1.89e-15  2.45e-10  2.47e-09 │\n",
      "│ x7 │      5.71    -0.498        11         0  1.87e-07 -1.29e-07  2.47e-09      9.44 │\n",
      "└────┴─────────────────────────────────────────────────────────────────────────────────┘\n"
     ]
    }
   ],
   "source": [
    "#Pee\n",
    "start_time = time.time()\n",
    "m_c_Pee.migrad()\n",
    "print(\"Minuit Pee= %s minutes\" % ((time.time() - start_time)/60))\n",
    "m_c_Pee_BF=np.array(m_c_Pee.values)\n",
    "m_c_Pee_BF_like=np.array(m_c_Pee.fval)\n",
    "np.save(\"Output/BF_Pee_TD_coo.npy\", np.array(m_c_Pee_BF,dtype=object))\n",
    "np.save(\"Output/BF_like_Pee_TD_coo.npy\", np.array(m_c_Pee_BF_like,dtype=object))\n",
    "m_c_Pee.fixed[\"x4\"] = True\n",
    "m_c_Pee.fixed[\"x5\"] = True\n",
    "m_c_Pee.fixed[\"x6\"] = True\n",
    "print(m_c_Pee)"
   ]
  },
  {
   "cell_type": "code",
   "execution_count": 9,
   "metadata": {},
   "outputs": [],
   "source": [
    "tau_vec=[1,1.1,1.2,1.3,1.4,1.5]\n",
    "n_iterate=20\n",
    "n_points=40\n",
    "m_c_Pee.fixed[\"x3\"] = True\n",
    "\n",
    "for tau in tau_vec:\n",
    "    start_time = time.time()\n",
    "    \n",
    "    #Cooling\n",
    "    m_c_Pee.values=m_c_Pee_BF\n",
    "    m_c_Pee.values[\"x3\"]=tau\n",
    "    x_Pee, L_Pee,axu= param_profile(m_c_Pee,\"x7\",0,1,size=n_points,iterate=n_iterate,subtract_min=False)\n",
    "    #Saving Arrays\n",
    "    file_name=\"Output/Pee_c_tau_\"+str(tau)+\".npy\"\n",
    "    np.save(file_name, x_Pee)\n",
    "    file_name=\"Output/Like_Pee_c_tau_\"+str(tau)+\".npy\"\n",
    "    np.save(file_name, L_Pee)"
   ]
  }
 ],
 "metadata": {
  "kernelspec": {
   "display_name": "Python 3",
   "language": "python",
   "name": "python3"
  },
  "language_info": {
   "codemirror_mode": {
    "name": "ipython",
    "version": 3
   },
   "file_extension": ".py",
   "mimetype": "text/x-python",
   "name": "python",
   "nbconvert_exporter": "python",
   "pygments_lexer": "ipython3",
   "version": "3.8.10"
  },
  "orig_nbformat": 4,
  "vscode": {
   "interpreter": {
    "hash": "916dbcbb3f70747c44a77c7bcd40155683ae19c65e1c03b4aa3499c5328201f1"
   }
  }
 },
 "nbformat": 4,
 "nbformat_minor": 2
}
